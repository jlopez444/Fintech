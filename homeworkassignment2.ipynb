{
 "cells": [
  {
   "cell_type": "code",
   "execution_count": 7,
   "id": "0bc55464-ee6f-4412-9e1a-1a6cc1bcd010",
   "metadata": {},
   "outputs": [],
   "source": [
    "#import csv procedure\n",
    "import csv\n",
    "from pathlib import Path"
   ]
  },
  {
   "cell_type": "code",
   "execution_count": 8,
   "id": "f6f56022-cc24-4a91-8e2e-bf3f4d2822d2",
   "metadata": {
    "tags": []
   },
   "outputs": [],
   "source": [
    "file_to_load = Path(\"budget_data.csv\")\n",
    "file_to_output = Path(\"budget_analysis.txt\")"
   ]
  },
  {
   "cell_type": "code",
   "execution_count": 4,
   "id": "98b18b5e-25f7-4b5b-a0a7-accc3c92d31c",
   "metadata": {
    "tags": []
   },
   "outputs": [],
   "source": [
    "#create variables\n",
    "total_months = 0\n",
    "month_of_change = []\n",
    "net_change_list = []\n",
    "greatest_increase = [\"\",0]\n",
    "greatest_decrease = [\"\", 9999999999999999999]\n",
    "total_net = 0\n",
    "\n"
   ]
  },
  {
   "cell_type": "code",
   "execution_count": 14,
   "id": "62baa7c5-64c2-4d13-b0d2-24515d4eb9ec",
   "metadata": {
    "tags": []
   },
   "outputs": [],
   "source": [
    "#the loop\n",
    "#read csv\n",
    "with open(file_to_load) as financial_data:\n",
    "    reader = csv.reader(financial_data)\n",
    "    #easy metrics\n",
    "    header = next(reader)\n",
    "    #caluculating metrics from the first row\n",
    "    first_row = next(reader)\n",
    "    total_months =  total_months + 1 #counting first month\n",
    "    total_net = total_net = int(first_row[1])\n",
    "    prev_net = int(first_row[1])\n",
    "    #harder metrics\n",
    "    for row in reader:\n",
    "        total_months = total_months + 1\n",
    "        total_net = total_net + int(row[1])\n",
    "        net_change = int(row[1]) - prev_net\n",
    "        net_change_list = net_change_list = [net_change]\n",
    "        month_of_change = month_of_change + [row[0]]\n",
    "        if net_change > greatest_increase[1]:\n",
    "            greatest_increase[0] = row[0]\n",
    "            greatest_increase[1] = net_change\n",
    "        if net_change < greatest_decrease[1]:\n",
    "            greatest_decrease[0] = row[0]\n",
    "            greatest_decrease[1] = net_change\n",
    "    "
   ]
  },
  {
   "cell_type": "code",
   "execution_count": 16,
   "id": "130d0505-bf50-4ef8-b844-0a48adc95cdb",
   "metadata": {
    "tags": []
   },
   "outputs": [],
   "source": [
    "net_monthly_avg = sum(net_change_list) / len(net_change_list)\n"
   ]
  },
  {
   "cell_type": "code",
   "execution_count": 21,
   "id": "75a7ab0a-f5c9-48a0-988e-c912661e09e4",
   "metadata": {
    "tags": []
   },
   "outputs": [],
   "source": [
    "with open (file_to_output, 'w') as txt_file:\n",
    "    txt_file.write(f\"Financial Analysis\\n\")\n",
    "    txt_file.write(f\"----------------------\\n\")\n",
    "    txt_file.write(f\"Total Months: {total_months}\\n\")\n",
    "    txt_file.write(f\"Total: ${total_net}\\n\")\n",
    "    txt_file.write(f\"Average Change: ${net_monthly_avg}\\n\")\n",
    "    txt_file.write(f\"Greatest Increase in Profits: {greatest_increase[0]}\")\n",
    "                "
   ]
  }
 ],
 "metadata": {
  "kernelspec": {
   "display_name": "Python 3 (ipykernel)",
   "language": "python",
   "name": "python3"
  },
  "language_info": {
   "codemirror_mode": {
    "name": "ipython",
    "version": 3
   },
   "file_extension": ".py",
   "mimetype": "text/x-python",
   "name": "python",
   "nbconvert_exporter": "python",
   "pygments_lexer": "ipython3",
   "version": "3.11.4"
  }
 },
 "nbformat": 4,
 "nbformat_minor": 5
}
